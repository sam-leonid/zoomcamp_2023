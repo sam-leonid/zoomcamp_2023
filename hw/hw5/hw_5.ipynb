{
 "cells": [
  {
   "cell_type": "code",
   "execution_count": 1,
   "metadata": {},
   "outputs": [],
   "source": [
    "import pyspark\n",
    "from pyspark.sql import SparkSession"
   ]
  },
  {
   "cell_type": "markdown",
   "metadata": {},
   "source": [
    "# 1."
   ]
  },
  {
   "cell_type": "code",
   "execution_count": 2,
   "metadata": {},
   "outputs": [],
   "source": [
    "spark = SparkSession.builder \\\n",
    "    .master(\"local[*]\") \\\n",
    "    .appName('test') \\\n",
    "    .getOrCreate()"
   ]
  },
  {
   "cell_type": "code",
   "execution_count": 3,
   "metadata": {},
   "outputs": [
    {
     "name": "stdout",
     "output_type": "stream",
     "text": [
      "1. Spark version:  3.3.2\n"
     ]
    }
   ],
   "source": [
    "print(\"1. Spark version: \", spark.version)"
   ]
  },
  {
   "cell_type": "markdown",
   "metadata": {},
   "source": [
    "# 2."
   ]
  },
  {
   "cell_type": "code",
   "execution_count": 7,
   "metadata": {},
   "outputs": [],
   "source": [
    "from pyspark.sql import types\n",
    "\n",
    "schema = types.StructType(\n",
    "    [\n",
    "        types.StructField('dispatching_base_num', types.StringType(), True),\n",
    "        types.StructField('pickup_datetime', types.TimestampType(), True),\n",
    "        types.StructField('dropoff_datetime', types.TimestampType(), True),\n",
    "        types.StructField('PULocationID', types.IntegerType(), True),\n",
    "        types.StructField('DOLocationID', types.IntegerType(), True),\n",
    "        types.StructField('SR_Flag', types.BooleanType(), True),\n",
    "        types.StructField('Affiliated_base_number', types.StringType(), True)\n",
    "\n",
    "    ]\n",
    ")"
   ]
  },
  {
   "cell_type": "code",
   "execution_count": 18,
   "metadata": {},
   "outputs": [],
   "source": [
    "df = spark.read \\\n",
    "    .option(\"header\", \"true\") \\\n",
    "    .schema(schema) \\\n",
    "    .csv('fhvhv_tripdata_2021-06.csv')"
   ]
  },
  {
   "cell_type": "code",
   "execution_count": 10,
   "metadata": {},
   "outputs": [],
   "source": [
    "df = df.repartition(12)"
   ]
  },
  {
   "cell_type": "code",
   "execution_count": 12,
   "metadata": {},
   "outputs": [],
   "source": [
    "df.write.parquet('fhvhv/2021/06/')"
   ]
  },
  {
   "cell_type": "code",
   "execution_count": 13,
   "metadata": {},
   "outputs": [
    {
     "name": "stdout",
     "output_type": "stream",
     "text": [
      "total 566784\r\n",
      "-rw-r--r--  1 leonidsamorcev  staff     0B Mar  3 13:31 _SUCCESS\r\n",
      "-rw-r--r--  1 leonidsamorcev  staff    23M Mar  3 13:31 part-00000-0ef1e5fb-409a-4a70-abc6-116b261865e2-c000.snappy.parquet\r\n",
      "-rw-r--r--  1 leonidsamorcev  staff    23M Mar  3 13:31 part-00001-0ef1e5fb-409a-4a70-abc6-116b261865e2-c000.snappy.parquet\r\n",
      "-rw-r--r--  1 leonidsamorcev  staff    23M Mar  3 13:31 part-00002-0ef1e5fb-409a-4a70-abc6-116b261865e2-c000.snappy.parquet\r\n",
      "-rw-r--r--  1 leonidsamorcev  staff    23M Mar  3 13:31 part-00003-0ef1e5fb-409a-4a70-abc6-116b261865e2-c000.snappy.parquet\r\n",
      "-rw-r--r--  1 leonidsamorcev  staff    23M Mar  3 13:31 part-00004-0ef1e5fb-409a-4a70-abc6-116b261865e2-c000.snappy.parquet\r\n",
      "-rw-r--r--  1 leonidsamorcev  staff    23M Mar  3 13:31 part-00005-0ef1e5fb-409a-4a70-abc6-116b261865e2-c000.snappy.parquet\r\n",
      "-rw-r--r--  1 leonidsamorcev  staff    23M Mar  3 13:31 part-00006-0ef1e5fb-409a-4a70-abc6-116b261865e2-c000.snappy.parquet\r\n",
      "-rw-r--r--  1 leonidsamorcev  staff    23M Mar  3 13:31 part-00007-0ef1e5fb-409a-4a70-abc6-116b261865e2-c000.snappy.parquet\r\n",
      "-rw-r--r--  1 leonidsamorcev  staff    23M Mar  3 13:31 part-00008-0ef1e5fb-409a-4a70-abc6-116b261865e2-c000.snappy.parquet\r\n",
      "-rw-r--r--  1 leonidsamorcev  staff    23M Mar  3 13:31 part-00009-0ef1e5fb-409a-4a70-abc6-116b261865e2-c000.snappy.parquet\r\n",
      "-rw-r--r--  1 leonidsamorcev  staff    23M Mar  3 13:31 part-00010-0ef1e5fb-409a-4a70-abc6-116b261865e2-c000.snappy.parquet\r\n",
      "-rw-r--r--  1 leonidsamorcev  staff    23M Mar  3 13:31 part-00011-0ef1e5fb-409a-4a70-abc6-116b261865e2-c000.snappy.parquet\r\n"
     ]
    }
   ],
   "source": [
    "!ls -lh fhvhv/2021/06"
   ]
  },
  {
   "cell_type": "markdown",
   "metadata": {},
   "source": [
    "# 3."
   ]
  },
  {
   "cell_type": "code",
   "execution_count": 56,
   "metadata": {},
   "outputs": [],
   "source": [
    "df = spark.read \\\n",
    "    .option(\"header\", \"true\") \\\n",
    "    .schema(schema) \\\n",
    "    .csv('fhvhv_tripdata_2021-06.csv')"
   ]
  },
  {
   "cell_type": "code",
   "execution_count": 55,
   "metadata": {},
   "outputs": [],
   "source": [
    "from pyspark.sql.functions import col, lit, to_date\n",
    "\n",
    "df.filter(to_date(df.pickup_datetime) == lit(\"2021-06-15\")).count()"
   ]
  },
  {
   "cell_type": "markdown",
   "metadata": {},
   "source": [
    "# 4."
   ]
  },
  {
   "cell_type": "code",
   "execution_count": 29,
   "metadata": {},
   "outputs": [],
   "source": [
    "from pyspark.sql.functions import max as max_, hour\n",
    "\n",
    "df = df.withColumn('trip_time_hours',  (df['dropoff_datetime'] - df['pickup_datetime']) )"
   ]
  },
  {
   "cell_type": "code",
   "execution_count": 34,
   "metadata": {},
   "outputs": [],
   "source": [
    "max_trip = df.select(max_(df.trip_time_hours)).collect()"
   ]
  },
  {
   "cell_type": "code",
   "execution_count": 35,
   "metadata": {},
   "outputs": [
    {
     "data": {
      "text/plain": [
       "[Row(max(trip_time_hours)=datetime.timedelta(days=2, seconds=67964))]"
      ]
     },
     "execution_count": 35,
     "metadata": {},
     "output_type": "execute_result"
    }
   ],
   "source": [
    "max_trip"
   ]
  },
  {
   "cell_type": "markdown",
   "metadata": {},
   "source": [
    "# 6."
   ]
  },
  {
   "cell_type": "code",
   "execution_count": 19,
   "metadata": {},
   "outputs": [],
   "source": [
    "schema_taxi_zones = types.StructType(\n",
    "    [\n",
    "        types.StructField('LocationID', types.IntegerType(), True),\n",
    "        types.StructField('Borough', types.StringType(), True),\n",
    "        types.StructField('Zone', types.StringType(), True),\n",
    "        types.StructField('service_zone', types.StringType(), True)\n",
    "    ]\n",
    ")"
   ]
  },
  {
   "cell_type": "code",
   "execution_count": 20,
   "metadata": {},
   "outputs": [],
   "source": [
    "df_zones = spark.read \\\n",
    "    .option(\"header\", \"true\") \\\n",
    "    .schema(schema_taxi_zones) \\\n",
    "    .csv('taxi_zone_lookup.csv')"
   ]
  },
  {
   "cell_type": "code",
   "execution_count": 42,
   "metadata": {},
   "outputs": [],
   "source": [
    "max_rides_count = df.select('PULocationID').groupby('PULocationID').count()"
   ]
  },
  {
   "cell_type": "code",
   "execution_count": 65,
   "metadata": {},
   "outputs": [
    {
     "data": {
      "text/plain": [
       "[Row(max(count)=231279)]"
      ]
     },
     "execution_count": 65,
     "metadata": {},
     "output_type": "execute_result"
    }
   ],
   "source": [
    "max_rides_count.agg({\"count\": \"max\"}).collect()"
   ]
  },
  {
   "cell_type": "code",
   "execution_count": 67,
   "metadata": {},
   "outputs": [
    {
     "name": "stdout",
     "output_type": "stream",
     "text": [
      "+------------+------+\n",
      "|PULocationID| count|\n",
      "+------------+------+\n",
      "|          61|231279|\n",
      "+------------+------+\n",
      "\n"
     ]
    }
   ],
   "source": [
    "max_rides_count.filter(col(\"count\") == 231279).show()"
   ]
  },
  {
   "cell_type": "code",
   "execution_count": 68,
   "metadata": {},
   "outputs": [
    {
     "name": "stdout",
     "output_type": "stream",
     "text": [
      "+----------+--------+-------------------+------------+\n",
      "|LocationID| Borough|               Zone|service_zone|\n",
      "+----------+--------+-------------------+------------+\n",
      "|        61|Brooklyn|Crown Heights North|   Boro Zone|\n",
      "+----------+--------+-------------------+------------+\n",
      "\n"
     ]
    }
   ],
   "source": [
    "df_zones.filter(df_zones.LocationID == 61).show()"
   ]
  }
 ],
 "metadata": {
  "kernelspec": {
   "display_name": "Python 3",
   "language": "python",
   "name": "python3"
  },
  "language_info": {
   "codemirror_mode": {
    "name": "ipython",
    "version": 3
   },
   "file_extension": ".py",
   "mimetype": "text/x-python",
   "name": "python",
   "nbconvert_exporter": "python",
   "pygments_lexer": "ipython3",
   "version": "3.7.4"
  }
 },
 "nbformat": 4,
 "nbformat_minor": 2
}
